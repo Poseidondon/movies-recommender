{
 "cells": [
  {
   "cell_type": "code",
   "execution_count": 5,
   "id": "4afbc2c2-570b-4b96-8e51-257a9b7db2b1",
   "metadata": {},
   "outputs": [
    {
     "data": {
      "text/plain": [
       "<tensorflow.python.checkpoint.checkpoint.CheckpointLoadStatus at 0x7f3297b28210>"
      ]
     },
     "execution_count": 5,
     "metadata": {},
     "output_type": "execute_result"
    }
   ],
   "source": [
    "import sys\n",
    "sys.path.append(\"..\")\n",
    "\n",
    "import tensorflow as tf\n",
    "import tensorflow_recommenders as tfrs\n",
    "import tensorflow_datasets as tfds\n",
    "\n",
    "from src.DCN import MovielensModel\n",
    "\n",
    "model = MovielensModel(0.5, [96, 32], [64, 32])\n",
    "model.compile(optimizer=tf.keras.optimizers.Adagrad(0.1))\n",
    "model.load_weights('../models/DNN-7-96_32-64_32-emb_0.25-cross_emb/best/cp-174_loss-14645_acc100-0.3109_rmse-0.9815.ckpt')"
   ]
  },
  {
   "cell_type": "code",
   "execution_count": 147,
   "id": "7757ae04-6869-499a-be95-1422db12638e",
   "metadata": {},
   "outputs": [],
   "source": [
    "ratings = tfds.load(\"movielens/100k-ratings\", split=\"train\")\n",
    "ratings = ratings.map(lambda x: {\n",
    "    \"movie_title\": x[\"movie_title\"],\n",
    "    \"user_id\": x[\"user_id\"],\n",
    "    \"user_rating\": x[\"user_rating\"],\n",
    "    \"user_gender\": int(x[\"user_gender\"]),\n",
    "    \"user_zip_code\": x[\"user_zip_code\"],\n",
    "    \"user_occupation_text\": x[\"user_occupation_text\"],\n",
    "    \"bucketized_user_age\": int(x[\"bucketized_user_age\"]),\n",
    "    \"timestamp\": x[\"timestamp\"],\n",
    "})\n",
    "ratings = ratings.batch(4096).cache()\n",
    "\n",
    "movies = tfds.load(\"movielens/100k-movies\", split=\"train\")\n",
    "movies = movies.map(lambda x: x[\"movie_title\"])"
   ]
  },
  {
   "cell_type": "code",
   "execution_count": 148,
   "id": "dee5fad9-bc95-4078-a64a-5962712ddbac",
   "metadata": {},
   "outputs": [
    {
     "name": "stdout",
     "output_type": "stream",
     "text": [
      "25/25 [==============================] - 7s 258ms/step - root_mean_squared_error: 0.8618 - factorized_top_k/top_1_categorical_accuracy: 0.0091 - factorized_top_k/top_5_categorical_accuracy: 0.0474 - factorized_top_k/top_10_categorical_accuracy: 0.0812 - factorized_top_k/top_50_categorical_accuracy: 0.2769 - factorized_top_k/top_100_categorical_accuracy: 0.4416 - loss: 14445.0076 - regularization_loss: 0.0000e+00 - total_loss: 14445.0076\n"
     ]
    },
    {
     "data": {
      "text/plain": [
       "{'root_mean_squared_error': 0.8618263006210327,\n",
       " 'factorized_top_k/top_1_categorical_accuracy': 0.009060000069439411,\n",
       " 'factorized_top_k/top_5_categorical_accuracy': 0.04741000011563301,\n",
       " 'factorized_top_k/top_10_categorical_accuracy': 0.08121000230312347,\n",
       " 'factorized_top_k/top_50_categorical_accuracy': 0.2769399881362915,\n",
       " 'factorized_top_k/top_100_categorical_accuracy': 0.44159001111984253,\n",
       " 'loss': 5506.12841796875,\n",
       " 'regularization_loss': 0,\n",
       " 'total_loss': 5506.12841796875}"
      ]
     },
     "execution_count": 148,
     "metadata": {},
     "output_type": "execute_result"
    }
   ],
   "source": [
    "model.evaluate(ratings, return_dict=True)"
   ]
  },
  {
   "cell_type": "code",
   "execution_count": 149,
   "id": "d84a6a65-ad7d-4c4a-80bf-a888bd7cd270",
   "metadata": {},
   "outputs": [
    {
     "data": {
      "text/plain": [
       "<tensorflow_recommenders.layers.factorized_top_k.BruteForce at 0x7f31bc229510>"
      ]
     },
     "execution_count": 149,
     "metadata": {},
     "output_type": "execute_result"
    }
   ],
   "source": [
    "index = tfrs.layers.factorized_top_k.BruteForce(model.query_model)\n",
    "index.index_from_dataset(\n",
    "    tf.data.Dataset.zip((movies.batch(100), movies.batch(100).map(model.candidate_model)))\n",
    ")"
   ]
  },
  {
   "cell_type": "code",
   "execution_count": 150,
   "id": "7d8e3faa-9727-49c8-a1a7-be6495659640",
   "metadata": {},
   "outputs": [],
   "source": [
    "def get_user_data(user_id):\n",
    "    user_id = str(user_id)\n",
    "    user_ratings = ratings.unbatch().filter(lambda x: x['user_id'] == user_id)\n",
    "    user_data = list(user_ratings.take(1))[0]\n",
    "    user_data = {\n",
    "        \"user_id\": np.array([user_data[\"user_id\"].numpy()]),\n",
    "        \"user_gender\": np.array([user_data[\"user_gender\"].numpy()]),\n",
    "        \"user_zip_code\": np.array([user_data[\"user_zip_code\"].numpy()]),\n",
    "        \"user_occupation_text\": np.array([user_data[\"user_occupation_text\"].numpy()]),\n",
    "        \"bucketized_user_age\": np.array([user_data[\"bucketized_user_age\"].numpy()]),\n",
    "        \"timestamp\": np.array([user_data[\"timestamp\"].numpy()])\n",
    "    }\n",
    "    movies_seen = np.unique(np.concatenate(list(user_ratings.batch(1_000).map(\n",
    "        lambda x: x[\"movie_title\"]))))[np.newaxis, ...]\n",
    "\n",
    "    return user_data, movies_seen"
   ]
  },
  {
   "cell_type": "code",
   "execution_count": 151,
   "id": "5997ea1b-9cf2-4b6b-b514-8958d02d2b75",
   "metadata": {},
   "outputs": [
    {
     "name": "stdout",
     "output_type": "stream",
     "text": [
      "WARNING:tensorflow:5 out of the last 7 calls to <function TopK.query_with_exclusions at 0x7f31d7593ce0> triggered tf.function retracing. Tracing is expensive and the excessive number of tracings could be due to (1) creating @tf.function repeatedly in a loop, (2) passing tensors with different shapes, (3) passing Python objects instead of tensors. For (1), please define your @tf.function outside of the loop. For (2), @tf.function has reduce_retracing=True option that can avoid unnecessary retracing. For (3), please refer to https://www.tensorflow.org/guide/function#controlling_retracing and https://www.tensorflow.org/api_docs/python/tf/function for  more details.\n"
     ]
    },
    {
     "name": "stderr",
     "output_type": "stream",
     "text": [
      "WARNING:tensorflow:5 out of the last 7 calls to <function TopK.query_with_exclusions at 0x7f31d7593ce0> triggered tf.function retracing. Tracing is expensive and the excessive number of tracings could be due to (1) creating @tf.function repeatedly in a loop, (2) passing tensors with different shapes, (3) passing Python objects instead of tensors. For (1), please define your @tf.function outside of the loop. For (2), @tf.function has reduce_retracing=True option that can avoid unnecessary retracing. For (3), please refer to https://www.tensorflow.org/guide/function#controlling_retracing and https://www.tensorflow.org/api_docs/python/tf/function for  more details.\n"
     ]
    }
   ],
   "source": [
    "import numpy as np\n",
    "\n",
    "user_data, movies_seen = get_user_data(15)\n",
    "# scores, titles = index(user_data, k=15)\n",
    "scores, titles = index.query_with_exclusions(user_data, movies_seen, k=15)"
   ]
  },
  {
   "cell_type": "code",
   "execution_count": 152,
   "id": "f1f24f80-1e9f-4d43-9465-19db84179f69",
   "metadata": {},
   "outputs": [
    {
     "data": {
      "text/plain": [
       "(<tf.Tensor: shape=(1, 15), dtype=string, numpy=\n",
       " array([[b'Truth or Consequences, N.M. (1997)',\n",
       "         b'To Gillian on Her 37th Birthday (1996)',\n",
       "         b'Assignment, The (1997)',\n",
       "         b'Last Klezmer: Leopold Kozlowski, His Life and Music, The (1995)',\n",
       "         b'Evening Star, The (1996)', b'In Love and War (1996)',\n",
       "         b'Associate, The (1996)', b'A Chef in Love (1996)',\n",
       "         b'Journey of August King, The (1995)',\n",
       "         b'Zeus and Roxanne (1997)', b'Infinity (1996)',\n",
       "         b'Flipper (1996)', b'Jane Eyre (1996)',\n",
       "         b\"I'm Not Rappaport (1996)\", b'Swept from the Sea (1997)']],\n",
       "       dtype=object)>,\n",
       " <tf.Tensor: shape=(1, 15), dtype=float32, numpy=\n",
       " array([[5.318854 , 5.0321703, 4.946436 , 4.8859577, 4.8824406, 4.8518567,\n",
       "         4.818259 , 4.8145103, 4.7733364, 4.7049975, 4.629643 , 4.6278663,\n",
       "         4.4265757, 4.3398347, 4.3255377]], dtype=float32)>)"
      ]
     },
     "execution_count": 152,
     "metadata": {},
     "output_type": "execute_result"
    }
   ],
   "source": [
    "titles, scores"
   ]
  }
 ],
 "metadata": {
  "kernelspec": {
   "display_name": "Python 3 (ipykernel)",
   "language": "python",
   "name": "python3"
  },
  "language_info": {
   "codemirror_mode": {
    "name": "ipython",
    "version": 3
   },
   "file_extension": ".py",
   "mimetype": "text/x-python",
   "name": "python",
   "nbconvert_exporter": "python",
   "pygments_lexer": "ipython3",
   "version": "3.11.5"
  }
 },
 "nbformat": 4,
 "nbformat_minor": 5
}
